{
 "cells": [
  {
   "cell_type": "code",
   "execution_count": 1,
   "id": "ceb543c3-8d83-4aeb-9dc6-b1cb1d58e077",
   "metadata": {},
   "outputs": [],
   "source": [
    "import pandas as pd\n",
    "import pandahouse as ph\n",
    "import seaborn as sns\n",
    "from scipy import stats\n",
    "\n",
    "# Выгрузим данные из базы в датафрейм:\n",
    "\n",
    "connection = {'host': 'https://clickhouse.lab.karpov.courses',\n",
    "                      'database':'simulator_20220720',\n",
    "                      'user':'student', \n",
    "                      'password':'dpo_python_2020'\n",
    "                     }\n",
    "\n",
    "query = '''\n",
    "SELECT\n",
    "    exp_group,\n",
    "    user_id,\n",
    "    sum(action = 'like') as likes,\n",
    "    sum(action = 'view') as views,\n",
    "    likes/views as ctr\n",
    "FROM {db}.feed_actions \n",
    "WHERE\n",
    "toDate(time) BETWEEN '2022-06-06' AND '2022-06-12'\n",
    "AND \n",
    "exp_group BETWEEN 2 and 3\n",
    "GROUP BY exp_group, user_id\n",
    "'''\n",
    "\n",
    "df = ph.read_clickhouse(query, connection=connection)"
   ]
  },
  {
   "cell_type": "code",
   "execution_count": 2,
   "id": "7c204e5d-5f91-48c5-8294-e074d952f99d",
   "metadata": {},
   "outputs": [
    {
     "data": {
      "text/plain": [
       "exp_group\n",
       "2    8480\n",
       "3    8569\n",
       "Name: user_id, dtype: int64"
      ]
     },
     "execution_count": 2,
     "metadata": {},
     "output_type": "execute_result"
    }
   ],
   "source": [
    "# Посчитаем количество пользователей в обеих группах:\n",
    "\n",
    "df.groupby('exp_group')['user_id'].count()"
   ]
  },
  {
   "cell_type": "code",
   "execution_count": 3,
   "id": "deba9d2b-bbb3-4aec-bd1f-7b76c75078f9",
   "metadata": {},
   "outputs": [
    {
     "data": {
      "image/png": "[encoded data removed]",
      "text/plain": [
       "<Figure size 842.4x595.44 with 1 Axes>"
      ]
     },
     "metadata": {},
     "output_type": "display_data"
    }
   ],
   "source": [
    "# Построим гистограмму, где по x - CTR, по y - частота, с которой встречаются значения CTR:\n",
    "\n",
    "sns.set(rc={'figure.figsize':(11.7,8.27)})\n",
    "\n",
    "groups = sns.histplot(data = df, \n",
    "              x='ctr', \n",
    "              hue='exp_group', \n",
    "              palette = ['r', 'b'],\n",
    "              alpha=0.5,\n",
    "              kde=False)"
   ]
  },
  {
   "cell_type": "code",
   "execution_count": 4,
   "id": "eafe2b82-ab86-4dda-a685-c74895aeb5ab",
   "metadata": {},
   "outputs": [
    {
     "name": "stdout",
     "output_type": "stream",
     "text": [
      "Ttest_indResult(statistic=-0.7393597924958364, pvalue=0.45969873156476293)\n"
     ]
    }
   ],
   "source": [
    "# Проверим, одинаковые ли средние значения выборок, по t-критерию:\n",
    "\n",
    "print(stats.ttest_ind(df[df.exp_group == 2].ctr,\n",
    "                df[df.exp_group == 3].ctr,\n",
    "                equal_var=False))"
   ]
  },
  {
   "cell_type": "code",
   "execution_count": 5,
   "id": "69c68fa0-992a-4e83-8c0e-fe3dda936f41",
   "metadata": {},
   "outputs": [
    {
     "name": "stdout",
     "output_type": "stream",
     "text": [
      "В 48.92 % случаев A > B. Должно получиться около 50%\n"
     ]
    }
   ],
   "source": [
    "# Проверим выборки по критерию Манна-Уитни:\n",
    "\n",
    "##print(stats.mannwhitneyu(df[df.exp_group == 2].ctr,df[df.exp_group == 3].ctr))\n",
    "\n",
    "A_gt_B = 0\n",
    "for _ in range(10000):\n",
    "    A_gt_B+= df[df.exp_group == 2].ctr.sample().values[0] > df[df.exp_group == 3].ctr.sample().values[0]\n",
    "    \n",
    "print('В', A_gt_B/100, '% случаев A > B. Должно получиться около 50%')"
   ]
  },
  {
   "cell_type": "code",
   "execution_count": 6,
   "id": "ff47ad6c-a908-4900-a028-155c74ce7e38",
   "metadata": {},
   "outputs": [],
   "source": [
    "# Нагенерируем 10000 псевдовыборок без возвращения по 500 пользователей из 2 и 3 группы\n",
    "\n",
    "#df_exp2 = df[df.exp_group == 2]\n",
    "#df_exp3 = df[df.exp_group == 3]\n",
    "\n",
    "p_values = [] #список с p-values\n",
    "\n",
    "for i in range(10000):\n",
    "    subset2 = df[df.exp_group == 2].ctr.sample(500, replace=False).tolist()\n",
    "    subset3 = df[df.exp_group == 3].ctr.sample(500, replace=False).tolist()\n",
    "\n",
    "    #print(sum(subset2) / len(subset2))\n",
    "    #print(sum(subset3) / len(subset3))\n",
    "\n",
    "    #print(stats.ttest_ind(subset2,\n",
    "    #                subset3,\n",
    "    #                equal_var=False))\n",
    "    \n",
    "    p_values.append((stats.ttest_ind(subset2,\n",
    "                    subset3,\n",
    "                    equal_var=False)).pvalue)\n",
    "\n",
    "#print(p_values)"
   ]
  },
  {
   "cell_type": "code",
   "execution_count": null,
   "id": "24739652-025e-4639-98c0-79610d8487a0",
   "metadata": {},
   "outputs": [],
   "source": [
    "# Построим диаграмму распределения полученных p-value:\n",
    "\n",
    "sns.histplot(data = p_values)"
   ]
  },
  {
   "cell_type": "code",
   "execution_count": 8,
   "id": "3b7da8c5-8f3d-453b-bc03-3aae44ce9be6",
   "metadata": {},
   "outputs": [
    {
     "name": "stdout",
     "output_type": "stream",
     "text": [
      "4.89 %\n"
     ]
    }
   ],
   "source": [
    "# Посчитаем процент p-values, которые меньше либо равны 0.05\n",
    "\n",
    "print(len([item for item in p_values if item <= 0.05]) / len(p_values) * 100, \"%\")"
   ]
  },
  {
   "cell_type": "markdown",
   "id": "fcb18e8f-7f74-403c-a122-d4806533f89a",
   "metadata": {},
   "source": [
    "## Вывод\n",
    "\n",
    "Если наша система корректно бьет пользователей на группы, то:\n",
    "1. размеры групп примерно одинаковые;\n",
    "2. показатели в них сами по себе не различаются.\n",
    "\n",
    "В группе 2 - 10461 пользователей, в группе 3 - 10647 пользователей, что примерно одинаково.\n",
    "\n",
    "При генерации 10000 подвыборок по 500 пользователей из обеих групп мы получили, что в только 4.89% случаев мы отвергаем гипотезу о равенстве средних этих подвыборок. То есть значимые статистические различия между группами встречаются меньше чем в 5% случаев.\n",
    "\n",
    "Поэтому мы можем утверждать, что система сплитирования работает корректно."
   ]
  },
  {
   "cell_type": "code",
   "execution_count": null,
   "id": "9d92153f-a055-4e05-b371-cb60103ec77f",
   "metadata": {},
   "outputs": [],
   "source": []
  }
 ],
 "metadata": {
  "kernelspec": {
   "display_name": "Python 3 (ipykernel)",
   "language": "python",
   "name": "python3"
  },
  "language_info": {
   "codemirror_mode": {
    "name": "ipython",
    "version": 3
   },
   "file_extension": ".py",
   "mimetype": "text/x-python",
   "name": "python",
   "nbconvert_exporter": "python",
   "pygments_lexer": "ipython3",
   "version": "3.8.10"
  }
 },
 "nbformat": 4,
 "nbformat_minor": 5
}
