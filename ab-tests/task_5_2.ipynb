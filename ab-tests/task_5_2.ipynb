{
 "cells": [
  {
   "cell_type": "code",
   "execution_count": 1,
   "id": "2eb09538-4661-4c90-9e36-05f7d64b188b",
   "metadata": {},
   "outputs": [],
   "source": [
    "import pandas as pd\n",
    "import pandahouse as ph\n",
    "import seaborn as sns\n",
    "from scipy import stats\n",
    "import numpy as np\n",
    "\n",
    "# Выгрузим данные из базы в датафрейм:\n",
    "\n",
    "connection = {'host': 'https://clickhouse.lab.karpov.courses',\n",
    "                      'database':'simulator_20220720',\n",
    "                      'user':'student', \n",
    "                      'password':'dpo_python_2020'\n",
    "                     }\n",
    "\n",
    "query = '''\n",
    "SELECT\n",
    "    exp_group,\n",
    "    user_id,\n",
    "    sum(action = 'like') as likes,\n",
    "    sum(action = 'view') as views,\n",
    "    likes/views as ctr\n",
    "FROM {db}.feed_actions \n",
    "WHERE\n",
    "toDate(time) BETWEEN '2022-06-13' AND '2022-06-19'\n",
    "AND \n",
    "exp_group BETWEEN 1 and 2\n",
    "GROUP BY exp_group, user_id\n",
    "'''\n",
    "\n",
    "df = ph.read_clickhouse(query, connection=connection)"
   ]
  },
  {
   "cell_type": "code",
   "execution_count": 2,
   "id": "e3796734-1283-4747-b6b8-0756494f8a91",
   "metadata": {},
   "outputs": [
    {
     "data": {
      "text/plain": [
       "exp_group\n",
       "1    10079\n",
       "2     9952\n",
       "Name: user_id, dtype: int64"
      ]
     },
     "execution_count": 2,
     "metadata": {},
     "output_type": "execute_result"
    }
   ],
   "source": [
    "# Посчитаем количество пользователей в обеих группах:\n",
    "\n",
    "df.groupby('exp_group')['user_id'].count()"
   ]
  },
  {
   "cell_type": "code",
   "execution_count": 3,
   "id": "dc9df818-30ec-4da9-a05d-57b270ef83fd",
   "metadata": {},
   "outputs": [
    {
     "data": {
      "image/png": "[encoded data removed]",
      "text/plain": [
       "<Figure size 842.4x595.44 with 1 Axes>"
      ]
     },
     "metadata": {},
     "output_type": "display_data"
    }
   ],
   "source": [
    "# Построим гистограмму, где по x - CTR, по y - частота, с которой встречаются значения CTR:\n",
    "\n",
    "sns.set(rc={'figure.figsize':(11.7,8.27)})\n",
    "\n",
    "groups = sns.histplot(data = df, \n",
    "              x='ctr', \n",
    "              hue='exp_group', \n",
    "              palette = ['r', 'b'],\n",
    "              alpha=0.5,\n",
    "              kde=False)"
   ]
  },
  {
   "cell_type": "markdown",
   "id": "86854a0e-4e28-4144-ba6e-a5a82cb7ef95",
   "metadata": {
    "tags": []
   },
   "source": [
    "_Визуально выборки выглядят разными._"
   ]
  },
  {
   "cell_type": "code",
   "execution_count": 4,
   "id": "57b773e6-a747-444d-b384-fd1bd490efcf",
   "metadata": {},
   "outputs": [
    {
     "name": "stdout",
     "output_type": "stream",
     "text": [
      "Ttest_indResult(statistic=0.7094392041270486, pvalue=0.4780623130874935)\n"
     ]
    }
   ],
   "source": [
    "# Проверим, одинаковые ли средние значения выборок, по t-критерию:\n",
    "\n",
    "print(stats.ttest_ind(df[df.exp_group == 1].ctr,\n",
    "                df[df.exp_group == 2].ctr,\n",
    "                equal_var=False))"
   ]
  },
  {
   "cell_type": "markdown",
   "id": "125a026b-abbc-44fd-b9fc-da0189d70895",
   "metadata": {
    "jp-MarkdownHeadingCollapsed": true,
    "tags": []
   },
   "source": [
    "_Такой p-value не даёт нам опровергнуть нулевую гипотезу о равенстве средних.\n",
    "Однако если посмотреть на распределение группы 2, мы видим, что есть значения > 1000.\n",
    "Отсюда высока вероятность больших по модулю отклонений, поэтому доверять t-тесту мы не вполне можем._"
   ]
  },
  {
   "cell_type": "code",
   "execution_count": 5,
   "id": "21aa7388-cd6c-4b04-bd1d-a8ffa0314c6d",
   "metadata": {},
   "outputs": [
    {
     "name": "stdout",
     "output_type": "stream",
     "text": [
      "В 56.44 % случаев A > B. Должно получиться около 50%\n"
     ]
    }
   ],
   "source": [
    "# Проверим выборки по критерию Манна-Уитни:\n",
    "\n",
    "A_gt_B = 0\n",
    "for _ in range(10000):\n",
    "    A_gt_B+= df[df.exp_group == 1].ctr.sample().values[0] > df[df.exp_group == 2].ctr.sample().values[0]\n",
    "    \n",
    "print('В', A_gt_B/100, '% случаев A > B. Должно получиться около 50%')"
   ]
  },
  {
   "cell_type": "markdown",
   "id": "41e12075-cb7a-4902-89b2-6ac9e819555a",
   "metadata": {},
   "source": [
    "_Можем предположить, что в группе 1 показатель CTR в целом больше, чем в группе 2.\n",
    "Проверим, так ли это, с помощью других методов анализа._"
   ]
  },
  {
   "cell_type": "code",
   "execution_count": 6,
   "id": "72172e5b-b3a6-4dae-94f7-bfbe0f70d8ab",
   "metadata": {},
   "outputs": [],
   "source": [
    "# Посмотрим на сглаженный CTR:\n",
    "\n",
    "def get_smoothed_ctr(user_likes, user_views, global_ctr, alpha):\n",
    "    smoothed_ctr = (user_likes + alpha * global_ctr) / (user_views + alpha)\n",
    "    return smoothed_ctr\n",
    "\n",
    "global_ctr_1 = df[df.exp_group == 1].likes.sum()/df[df.exp_group == 1].views.sum()\n",
    "global_ctr_2 = df[df.exp_group == 2].likes.sum()/df[df.exp_group == 2].views.sum()"
   ]
  },
  {
   "cell_type": "code",
   "execution_count": 7,
   "id": "209351f0-3fcc-4ae8-be27-327fe7405605",
   "metadata": {},
   "outputs": [
    {
     "data": {
      "text/plain": [
       "<AxesSubplot:xlabel='smoothed_ctr', ylabel='Count'>"
      ]
     },
     "execution_count": 7,
     "metadata": {},
     "output_type": "execute_result"
    },
    {
     "data": {
      "image/png": "[encoded data removed]",
      "text/plain": [
       "<Figure size 842.4x595.44 with 1 Axes>"
      ]
     },
     "metadata": {},
     "output_type": "display_data"
    }
   ],
   "source": [
    "# Сглаженный CTR группы 1:\n",
    "\n",
    "group1 = df[df.exp_group == 1].copy()\n",
    "group1['smoothed_ctr'] = df.apply(\n",
    "    lambda x: get_smoothed_ctr(x['likes'], x['views'], global_ctr_1, 5), axis=1)\n",
    "\n",
    "sns.histplot(group1.smoothed_ctr, \n",
    "             kde = False)"
   ]
  },
  {
   "cell_type": "code",
   "execution_count": 8,
   "id": "e773bf4f-a75d-48f5-bc0a-e9d477d8a28c",
   "metadata": {},
   "outputs": [
    {
     "data": {
      "text/plain": [
       "<AxesSubplot:xlabel='smoothed_ctr', ylabel='Count'>"
      ]
     },
     "execution_count": 8,
     "metadata": {},
     "output_type": "execute_result"
    },
    {
     "data": {
      "image/png": "[encoded data removed]",
      "text/plain": [
       "<Figure size 842.4x595.44 with 1 Axes>"
      ]
     },
     "metadata": {},
     "output_type": "display_data"
    }
   ],
   "source": [
    "# Сглаженный CTR группы 2:\n",
    "\n",
    "group2 = df[df.exp_group == 2].copy()\n",
    "group2['smoothed_ctr'] = df.apply(\n",
    "    lambda x: get_smoothed_ctr(x['likes'], x['views'], global_ctr_2, 5), axis=1)\n",
    "\n",
    "sns.histplot(group2.smoothed_ctr, \n",
    "             kde = False)"
   ]
  },
  {
   "cell_type": "code",
   "execution_count": 9,
   "id": "5c7e1ed4-47c6-43b4-8513-1cb969fd871c",
   "metadata": {},
   "outputs": [
    {
     "name": "stdout",
     "output_type": "stream",
     "text": [
      "Ttest_indResult(statistic=2.2841320431616983, pvalue=0.0223769815558559)\n"
     ]
    }
   ],
   "source": [
    "# Проверим, одинаковые ли сглаженные CTR двух групп, по t-критерию:\n",
    "\n",
    "print(stats.ttest_ind(group1.smoothed_ctr,\n",
    "                group2.smoothed_ctr,\n",
    "                equal_var=False))"
   ]
  },
  {
   "cell_type": "markdown",
   "id": "8d1dae20-b4c9-4145-bf02-47c32ff9387b",
   "metadata": {},
   "source": [
    "_Такое значение p-value позволяет нам отвергнуть гипотезу о равенстве средних между группами._"
   ]
  },
  {
   "cell_type": "code",
   "execution_count": 10,
   "id": "9b07cd36-7a2d-428e-bdd7-cda56d5f55a3",
   "metadata": {},
   "outputs": [
    {
     "name": "stdout",
     "output_type": "stream",
     "text": [
      "В 56.49 % случаев A > B. Должно получиться около 50%\n"
     ]
    }
   ],
   "source": [
    "# Проверим сглаженные CTR двух групп по критерию Манна-Уитни:\n",
    "\n",
    "A_gt_B = 0\n",
    "for _ in range(10000):\n",
    "    A_gt_B+= group1.smoothed_ctr.sample().values[0] > group2.smoothed_ctr.sample().values[0]\n",
    "    \n",
    "print('В', A_gt_B/100, '% случаев A > B. Должно получиться около 50%')"
   ]
  },
  {
   "cell_type": "markdown",
   "id": "69ff3f34-d199-4fdb-9175-ff690dd59ed5",
   "metadata": {},
   "source": [
    "_Как и в случае с обычным CTR, мы получили, что групповой CTR в группе 1 в целом больше, чем в группе 2._"
   ]
  },
  {
   "cell_type": "code",
   "execution_count": 11,
   "id": "8745f57a-6188-43fc-9cf3-377a76d7ac6f",
   "metadata": {},
   "outputs": [
    {
     "data": {
      "text/plain": [
       "<AxesSubplot:ylabel='Count'>"
      ]
     },
     "execution_count": 11,
     "metadata": {},
     "output_type": "execute_result"
    },
    {
     "data": {
      "image/png": "[encoded data removed]",
      "text/plain": [
       "<Figure size 842.4x595.44 with 1 Axes>"
      ]
     },
     "metadata": {},
     "output_type": "display_data"
    }
   ],
   "source": [
    "# Посмотрим на Пуассоновский бутстреп для подсчета разницы между глобальными CTR:\n",
    "\n",
    "def bootstrap(likes1, views1, likes2, views2, n_bootstrap=2000):\n",
    "\n",
    "    poisson_bootstraps1 = stats.poisson(1).rvs(\n",
    "        (n_bootstrap, len(likes1))).astype(np.int64)\n",
    "\n",
    "    poisson_bootstraps2 = stats.poisson(1).rvs(\n",
    "            (n_bootstrap, len(likes2))).astype(np.int64)\n",
    "    \n",
    "    globalCTR1 = (poisson_bootstraps1*likes1).sum(axis=1)/(poisson_bootstraps1*views1).sum(axis=1)\n",
    "    \n",
    "    globalCTR2 = (poisson_bootstraps2*likes2).sum(axis=1)/(poisson_bootstraps2*views2).sum(axis=1)\n",
    "\n",
    "    return globalCTR1, globalCTR2\n",
    "\n",
    "likes1 = df[df.exp_group == 1].likes.to_numpy()\n",
    "views1 = df[df.exp_group == 1].views.to_numpy()\n",
    "likes2 = df[df.exp_group == 2].likes.to_numpy()\n",
    "views2 = df[df.exp_group == 2].views.to_numpy()\n",
    "\n",
    "ctr1, ctr2 = bootstrap(likes1, views1, likes2, views2)\n",
    "\n",
    "sns.histplot(ctr1,\n",
    "            color='red')\n",
    "sns.histplot(ctr2,\n",
    "            color='green')"
   ]
  },
  {
   "cell_type": "markdown",
   "id": "a022a628-e2c9-4fa5-ae21-2789c2112e41",
   "metadata": {},
   "source": [
    "_Здесь мы также видим, что CTR в группе 1 больше, чем в группе 2._"
   ]
  },
  {
   "cell_type": "code",
   "execution_count": 12,
   "id": "b4bec665-1f44-4845-9d9f-42178481cc54",
   "metadata": {},
   "outputs": [
    {
     "data": {
      "text/plain": [
       "<AxesSubplot:ylabel='Count'>"
      ]
     },
     "execution_count": 12,
     "metadata": {},
     "output_type": "execute_result"
    },
    {
     "data": {
      "image/png": "[encoded data removed]",
      "text/plain": [
       "<Figure size 842.4x595.44 with 1 Axes>"
      ]
     },
     "metadata": {},
     "output_type": "display_data"
    }
   ],
   "source": [
    "sns.histplot(ctr2 - ctr1)"
   ]
  },
  {
   "cell_type": "markdown",
   "id": "38eb0fae-357a-490e-8174-3f8bf28588d1",
   "metadata": {},
   "source": [
    "_Поэтому разница CTR между группами 2 и 1 получалась отрицательной._"
   ]
  },
  {
   "cell_type": "code",
   "execution_count": 13,
   "id": "712e11f6-3a0c-4733-873d-bf18deebcaf8",
   "metadata": {},
   "outputs": [],
   "source": [
    "# Посмотрим на бакетный CTR:\n",
    "\n",
    "q1 = \"\"\"\n",
    "\n",
    "SELECT exp_group, bucket,\n",
    "    sum(likes)/sum(views) as bucket_ctr\n",
    "FROM (SELECT exp_group, \n",
    "        xxHash64(user_id)%50 as bucket,\n",
    "        user_id,\n",
    "        sum(action = 'like') as likes,\n",
    "        sum(action = 'view') as views,\n",
    "        likes/views as ctr\n",
    "    FROM {db}.feed_actions \n",
    "    WHERE toDate(time) between '2022-06-13' AND '2022-06-19'\n",
    "        and exp_group in (1,2)\n",
    "    GROUP BY exp_group, bucket, user_id)\n",
    "GROUP BY exp_group, bucket\n",
    "\"\"\"\n",
    "\n",
    "df1 = ph.read_clickhouse(q1, connection=connection)"
   ]
  },
  {
   "cell_type": "code",
   "execution_count": 14,
   "id": "a1763bc3-5a31-4905-a5e8-71a08dcfa1d8",
   "metadata": {},
   "outputs": [
    {
     "data": {
      "text/plain": [
       "Ttest_indResult(statistic=5.668234732053979, pvalue=3.4455951649945907e-07)"
      ]
     },
     "execution_count": 14,
     "metadata": {},
     "output_type": "execute_result"
    }
   ],
   "source": [
    "# Проверим по t-критерию:\n",
    "\n",
    "stats.ttest_ind(df1[df1.exp_group == 1].bucket_ctr, \n",
    "                   df1[df1.exp_group == 2].bucket_ctr, \n",
    "                   equal_var = False)"
   ]
  },
  {
   "cell_type": "markdown",
   "id": "53001bb1-c3e2-4995-9ad0-4e17423635c7",
   "metadata": {},
   "source": [
    "_Такое значение p-value позволяет нам отвергнуть гипотезу о равенстве средних._"
   ]
  },
  {
   "cell_type": "code",
   "execution_count": 15,
   "id": "fbe3788a-224d-48fb-8ae4-e5b7059fc5a9",
   "metadata": {},
   "outputs": [
    {
     "data": {
      "text/plain": [
       "MannwhitneyuResult(statistic=1995.0, pvalue=2.859963936492646e-07)"
      ]
     },
     "execution_count": 15,
     "metadata": {},
     "output_type": "execute_result"
    }
   ],
   "source": [
    "# Проверим по критерию Манна-Уитни:\n",
    "\n",
    "stats.mannwhitneyu(df1[df1.exp_group == 1].bucket_ctr, \n",
    "                   df1[df1.exp_group == 2].bucket_ctr, \n",
    "                   alternative = 'two-sided')"
   ]
  },
  {
   "cell_type": "markdown",
   "id": "f9262af6-29e3-41ef-9916-7df401fd8435",
   "metadata": {},
   "source": [
    "_Такое значение p-value также позволяет нам утверждать, что группы отличаются._"
   ]
  },
  {
   "cell_type": "code",
   "execution_count": 17,
   "id": "e1260275-2373-462f-82ea-0538b9a1ab75",
   "metadata": {},
   "outputs": [
    {
     "data": {
      "text/plain": [
       "<AxesSubplot:xlabel='bucket_ctr', ylabel='Count'>"
      ]
     },
     "execution_count": 17,
     "metadata": {},
     "output_type": "execute_result"
    },
    {
     "data": {
      "image/png": "[encoded data removed]",
      "text/plain": [
       "<Figure size 842.4x595.44 with 1 Axes>"
      ]
     },
     "metadata": {},
     "output_type": "display_data"
    }
   ],
   "source": [
    "sns.histplot(df1[df1.exp_group == 1].bucket_ctr,\n",
    "            color='red')\n",
    "sns.histplot(df1[df1.exp_group == 2].bucket_ctr,\n",
    "            color='green')"
   ]
  },
  {
   "cell_type": "markdown",
   "id": "ca328805-7df8-47dd-9b53-c46d276cfb58",
   "metadata": {
    "tags": []
   },
   "source": [
    "## Вывод\n",
    "\n",
    "Проведённые тесты позволяют нам утверждать, что:\n",
    "- различия CTR в группе 1 и в группе 2 статистически значимы;\n",
    "- в группе 1 CTR выше, чем в группе 2.\n",
    "\n",
    "То есть значения CTR в группе, где внедрили новый алгоритм, ниже, чем в контрольной группе, где оставили прежний алгоритм.\n",
    "\n",
    "Возможно, это произошло из-за технических ошибок, недоработок в алгоритме, либо алгоритм ранее показал хорошие результаты на небольшой выборке участников в фокус-группе, но слабо показал себя в нашем эксперименте с группами ~10к человек.\n",
    "\n",
    "Судя по результатам наших тестов, не стоит раскатывать новый алгоритм на всех пользователей, иначе есть риск значительно снизить CTR во всём сервисе."
   ]
  },
  {
   "cell_type": "code",
   "execution_count": null,
   "id": "48726e58-5fc2-4523-ad70-690503ff1ba4",
   "metadata": {},
   "outputs": [],
   "source": []
  }
 ],
 "metadata": {
  "kernelspec": {
   "display_name": "Python 3 (ipykernel)",
   "language": "python",
   "name": "python3"
  },
  "language_info": {
   "codemirror_mode": {
    "name": "ipython",
    "version": 3
   },
   "file_extension": ".py",
   "mimetype": "text/x-python",
   "name": "python",
   "nbconvert_exporter": "python",
   "pygments_lexer": "ipython3",
   "version": "3.8.10"
  }
 },
 "nbformat": 4,
 "nbformat_minor": 5
}
