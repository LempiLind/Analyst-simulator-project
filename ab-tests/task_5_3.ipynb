{
 "cells": [
  {
   "cell_type": "code",
   "execution_count": 12,
   "id": "2eb9c83d-fcae-404a-b86d-e0658fb724ac",
   "metadata": {},
   "outputs": [],
   "source": [
    "import pandas as pd\n",
    "import pandahouse as ph\n",
    "import seaborn as sns\n",
    "from scipy import stats\n",
    "import numpy as np\n",
    "\n",
    "# Выгрузим данные из базы в датафрейм:\n",
    "\n",
    "connection = {'host': 'https://clickhouse.lab.karpov.courses',\n",
    "                      'database':'simulator_20220720',\n",
    "                      'user':'student', \n",
    "                      'password':'dpo_python_2020'\n",
    "                     }\n",
    "\n",
    "query = '''\n",
    "SELECT\n",
    "    exp_group,\n",
    "    user_id,\n",
    "    sum(action = 'like') as likes,\n",
    "    sum(action = 'view') as views,\n",
    "    sum(likes) over (partition by exp_group) as group_likes,\n",
    "    sum(views) over (partition by exp_group) as group_views\n",
    "FROM {db}.feed_actions \n",
    "WHERE\n",
    "toDate(time) BETWEEN '2022-06-13' AND '2022-06-19'\n",
    "GROUP BY exp_group, user_id\n",
    "'''\n",
    "\n",
    "df = ph.read_clickhouse(query, connection=connection)\n",
    "\n",
    "df['ctr'] = df['likes'] / df['views']\n",
    "\n",
    "df['ctr_control'] = df['group_likes'] / df['group_views']\n",
    "\n",
    "df['linearized_likes'] = df['likes'] - df['ctr_control'] * df['views']"
   ]
  },
  {
   "cell_type": "code",
   "execution_count": 14,
   "id": "45497fa4-61ef-4e18-9bd7-651ddf0ce2e0",
   "metadata": {},
   "outputs": [
    {
     "name": "stdout",
     "output_type": "stream",
     "text": [
      "Ttest_indResult(statistic=-1.422730641028824e-15, pvalue=0.9999999999999989)\n"
     ]
    }
   ],
   "source": [
    "# Сравниваем группы 0 и 3 t-тестом по линеаризованным лайкам:\n",
    "\n",
    "print(stats.ttest_ind(df[df.exp_group == 0].linearized_likes,\n",
    "                df[df.exp_group == 3].linearized_likes,\n",
    "                equal_var=False))"
   ]
  },
  {
   "cell_type": "code",
   "execution_count": 24,
   "id": "763a0ad8-5ffc-4fbf-a0b8-7d7884d62230",
   "metadata": {},
   "outputs": [
    {
     "data": {
      "image/png": "[encoded data removed]",
      "text/plain": [
       "<Figure size 432x288 with 1 Axes>"
      ]
     },
     "metadata": {
      "needs_background": "light"
     },
     "output_type": "display_data"
    }
   ],
   "source": [
    "# Для наглядности построим гистограмму:\n",
    "\n",
    "groups = sns.histplot(data = df[ (df.exp_group == 0) | (df.exp_group == 3) ], \n",
    "              x='linearized_likes', \n",
    "              hue='exp_group',\n",
    "              palette = ['r', 'b'],\n",
    "              alpha=0.5,\n",
    "              kde=False)"
   ]
  },
  {
   "cell_type": "markdown",
   "id": "5da55bbc-9e04-4bf9-b379-f5e624f6361b",
   "metadata": {},
   "source": [
    "_p-value получился значительно больше, чем в прошлых экспериментах, и мы принимаем гипотезу о равенстве средних линеаризированных лайков в группах 0 и 3._"
   ]
  },
  {
   "cell_type": "code",
   "execution_count": 27,
   "id": "e02c31a4-a5cd-4bbd-b66a-7eb3e837baae",
   "metadata": {},
   "outputs": [
    {
     "name": "stdout",
     "output_type": "stream",
     "text": [
      "Ttest_indResult(statistic=-7.296539291600762e-15, pvalue=0.9999999999999942)\n"
     ]
    }
   ],
   "source": [
    "# Сравниваем группы 1 и 2 t-тестом по линеаризованным лайкам:\n",
    "\n",
    "print(stats.ttest_ind(df[df.exp_group == 1].linearized_likes,\n",
    "                df[df.exp_group == 2].linearized_likes,\n",
    "                equal_var=False))"
   ]
  },
  {
   "cell_type": "code",
   "execution_count": 25,
   "id": "ab8c0ffe-72f9-4e67-9324-cb7fe5a6403d",
   "metadata": {},
   "outputs": [
    {
     "data": {
      "image/png": "[encoded data removed]",
      "text/plain": [
       "<Figure size 432x288 with 1 Axes>"
      ]
     },
     "metadata": {
      "needs_background": "light"
     },
     "output_type": "display_data"
    }
   ],
   "source": [
    "# Для наглядности построим гистограмму:\n",
    "\n",
    "groups = sns.histplot(data = df[ (df.exp_group == 1) | (df.exp_group == 2) ], \n",
    "              x='linearized_likes', \n",
    "              hue='exp_group',\n",
    "              palette = ['r', 'b'],\n",
    "              alpha=0.5,\n",
    "              kde=False)"
   ]
  },
  {
   "cell_type": "markdown",
   "id": "779677fc-05c2-430f-a323-e8a91e775e50",
   "metadata": {},
   "source": [
    "_p-value получился значительно больше, чем в наших прошлых экспериментах, и мы можем принять гипотезу о равенстве средних линеаризированных лайков в группах 1 и 2. Однако из-за особенности распределения по группе 2, которое визуально отличается от нормального, мы не вполне можем доверять этому t-тесту. Поэтому прежде чем делать выводы о схожести групп, стоит провести дополнительные тесты для их сравнения._"
   ]
  },
  {
   "cell_type": "code",
   "execution_count": null,
   "id": "dc1112d5-bda5-4313-b650-34a16c815998",
   "metadata": {},
   "outputs": [],
   "source": []
  }
 ],
 "metadata": {
  "kernelspec": {
   "display_name": "Python 3 (ipykernel)",
   "language": "python",
   "name": "python3"
  },
  "language_info": {
   "codemirror_mode": {
    "name": "ipython",
    "version": 3
   },
   "file_extension": ".py",
   "mimetype": "text/x-python",
   "name": "python",
   "nbconvert_exporter": "python",
   "pygments_lexer": "ipython3",
   "version": "3.8.10"
  }
 },
 "nbformat": 4,
 "nbformat_minor": 5
}
